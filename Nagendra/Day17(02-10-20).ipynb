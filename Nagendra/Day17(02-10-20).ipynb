{
 "cells": [
  {
   "cell_type": "code",
   "execution_count": 3,
   "metadata": {},
   "outputs": [
    {
     "name": "stdout",
     "output_type": "stream",
     "text": [
      "enter a number:1234\n",
      "sum of digits is  10\n"
     ]
    }
   ],
   "source": [
    "# find the sum of digits ex: 123=> 1+2+3=6\n",
    "n = int(input(\"enter a number:\"))\n",
    "s=0\n",
    "while(n>0):\n",
    "    r=n%10\n",
    "    s=s+r\n",
    "    n=n//10\n",
    "print(\"sum of digits is \",s)"
   ]
  },
  {
   "cell_type": "code",
   "execution_count": 4,
   "metadata": {},
   "outputs": [
    {
     "name": "stdout",
     "output_type": "stream",
     "text": [
      "enter a number:1234\n",
      "number of digits is: 4\n"
     ]
    }
   ],
   "source": [
    "# s=\"123\" => count the number of digits =>3; \"4567\"=>4\n",
    "s = input(\"enter a number:\")\n",
    "n = int(s)\n",
    "c=0\n",
    "while(n>0): #0>0\n",
    "    r=n%10 # r=1%10 => 1\n",
    "    c=c+1   #3\n",
    "    n=n//10 # n=1//10 =>0\n",
    "print(\"number of digits is:\",c)\n",
    "    "
   ]
  },
  {
   "cell_type": "code",
   "execution_count": 8,
   "metadata": {},
   "outputs": [
    {
     "name": "stdout",
     "output_type": "stream",
     "text": [
      "enter a number:567\n",
      "the given number is not palindrome\n"
     ]
    }
   ],
   "source": [
    "#  find the given number is palindrone or not\n",
    "# 212=>213(palindrome) 123=>321(palindrome)\n",
    "\n",
    "n=int(input(\"enter a number:\"))\n",
    "temp=n\n",
    "s=0\n",
    "while(n>0):   # 212>0\n",
    "    r=n%10      #r=212%10 => 2\n",
    "    s=s*10+r     #s=2\n",
    "    n=n//10       # n=21//10 =>0\n",
    "\n",
    "if(temp==s):\n",
    "    print(\"the given number is palindrome\")\n",
    "else:\n",
    "    print(\"the given number is not palindrome\")"
   ]
  },
  {
   "cell_type": "code",
   "execution_count": 13,
   "metadata": {},
   "outputs": [
    {
     "name": "stdout",
     "output_type": "stream",
     "text": [
      "enter a number:9729\n",
      "single digit number is  9\n"
     ]
    }
   ],
   "source": [
    "# sum the given digits upto get single digit\n",
    "# 2301=>2+3+0+1=>6\n",
    "# 1996=>1+9+9+6=>25=>2+5=>7\n",
    "\n",
    "n=int(input(\"enter a number:\"))\n",
    "s=0\n",
    "while(n>0 or s>9):   #0>0(t) or 7>9(f)\n",
    "    if(n==0):\n",
    "        n=s\n",
    "        s=0\n",
    "    r=n%10      #r=2%10 =>2\n",
    "    s=s+r          # s=7\n",
    "    n=n//10        #n=2//10 =>0\n",
    "\n",
    "print(\"single digit number is \",s)"
   ]
  },
  {
   "cell_type": "code",
   "execution_count": 15,
   "metadata": {},
   "outputs": [
    {
     "name": "stdout",
     "output_type": "stream",
     "text": [
      "enter a number:1634\n",
      "given number is not amstrong number 1634\n"
     ]
    }
   ],
   "source": [
    "# find the given number is amstrong or not\n",
    "# sum of cubes of individual number is equal to the given number is known as amstrong\n",
    "\n",
    "#153=> 1*1*1+5*5*5+3*3*3=>1+125+27=>153\n",
    "#1633=>1*1*1*1+6*6*6*6*6+3*3*3*3+4*4*4*4=>1663\n",
    "\n",
    "n=int(input(\"enter a number:\"))\n",
    "l=len(str(n))\n",
    "temp=n\n",
    "s=0\n",
    "while(n>0):\n",
    "    r=n%10\n",
    "    s=s+pow(r,1)\n",
    "    n=n//10\n",
    "if(s==temp):\n",
    "    print(\"given number is amstrong number\",temp)\n",
    "else:\n",
    "    print(\"given number is not amstrong number\",temp)\n",
    "    "
   ]
  },
  {
   "cell_type": "code",
   "execution_count": null,
   "metadata": {},
   "outputs": [],
   "source": []
  },
  {
   "cell_type": "code",
   "execution_count": null,
   "metadata": {},
   "outputs": [],
   "source": []
  }
 ],
 "metadata": {
  "kernelspec": {
   "display_name": "Python 3",
   "language": "python",
   "name": "python3"
  },
  "language_info": {
   "codemirror_mode": {
    "name": "ipython",
    "version": 3
   },
   "file_extension": ".py",
   "mimetype": "text/x-python",
   "name": "python",
   "nbconvert_exporter": "python",
   "pygments_lexer": "ipython3",
   "version": "3.7.4"
  }
 },
 "nbformat": 4,
 "nbformat_minor": 4
}
