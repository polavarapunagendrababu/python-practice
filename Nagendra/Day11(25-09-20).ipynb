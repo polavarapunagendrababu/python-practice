{
 "cells": [
  {
   "cell_type": "code",
   "execution_count": 1,
   "metadata": {},
   "outputs": [
    {
     "name": "stdout",
     "output_type": "stream",
     "text": [
      "odd place position characters are: s @ 1 q 6 & 8 \n",
      " even place position characters are: a r R % Y d u q \n",
      " odd place position characters count is:7\n",
      "even place position characters count is:8\n",
      "Uppercase characters are: R Y \n",
      "Lowercase characters are: a s r 1 q 6 d u 8 q \n",
      "Integers are: \n",
      "Special characters are: @ % & \n"
     ]
    }
   ],
   "source": [
    "def oddpc(t):\n",
    "    e= \"\"\n",
    "    print(\"odd place position characters are:\",end=\" \")\n",
    "    for l in range(len(t)):\n",
    "        if l%2!=0:\n",
    "            e+=t[l]\n",
    "    return e\n",
    "\n",
    "def evnpc(y):\n",
    "    u= \"\"\n",
    "    print(\"\\n even place position characters are:\",end=\" \")\n",
    "    for l in range(len(y)):\n",
    "        if l%2==0:\n",
    "            u+=y[l]\n",
    "    return u\n",
    "def spch(d):\n",
    "    u,l,i,s=\"\",\"\",\"\",\"\"\n",
    "    for v in d:\n",
    "        if v.isupper():\n",
    "            u+=v+\" \"\n",
    "        elif v.islower():\n",
    "            l+=v+\" \"\n",
    "        elif v.isdigit():\n",
    "            l+=v+\" \"\n",
    "        elif v.isdecimal():\n",
    "            i+=v+\" \"\n",
    "        else:\n",
    "            s+=v+\" \"\n",
    "    print(\"Uppercase characters are: {}\".format(u))\n",
    "    print(\"Lowercase characters are: {}\".format(l))\n",
    "    print(\"Integers are: {}\".format(i))\n",
    "    print(\"Special characters are: {}\".format(s))\n",
    "    return\n",
    "m=\"asr@R1%qY6d&u8q\"\n",
    "q=oddpc(m)\n",
    "for b in q:\n",
    "    print(b,end=\" \")\n",
    "z=evnpc(m)\n",
    "for x in z:\n",
    "    print(x,end=\" \")\n",
    "print(\"\\n odd place position characters count is:{}\".format(len(q)))\n",
    "print(\"even place position characters count is:{}\".format(len(z)))\n",
    "spch(m)"
   ]
  },
  {
   "cell_type": "code",
   "execution_count": null,
   "metadata": {},
   "outputs": [],
   "source": []
  }
 ],
 "metadata": {
  "kernelspec": {
   "display_name": "Python 3",
   "language": "python",
   "name": "python3"
  },
  "language_info": {
   "codemirror_mode": {
    "name": "ipython",
    "version": 3
   },
   "file_extension": ".py",
   "mimetype": "text/x-python",
   "name": "python",
   "nbconvert_exporter": "python",
   "pygments_lexer": "ipython3",
   "version": "3.7.4"
  }
 },
 "nbformat": 4,
 "nbformat_minor": 4
}
