{
 "cells": [
  {
   "cell_type": "code",
   "execution_count": 1,
   "metadata": {},
   "outputs": [
    {
     "name": "stdout",
     "output_type": "stream",
     "text": [
      "enter a number:2\n",
      "enter a last  number:20\n",
      "2 3 5 7 11 13 17 19 "
     ]
    }
   ],
   "source": [
    "# print the inbetween prime numbers\n",
    "first=int(input(\"enter a number:\"))\n",
    "end=int(input(\"enter a last  number:\"))\n",
    "for i in range(first,end+1):     # 2,3,4,5,6,7,8,9,10,11\n",
    "    if(i>1):\n",
    "        c=0\n",
    "        for j in range(2,i):\n",
    "            if(i%j==0):\n",
    "                c=c+1\n",
    "        if(c==0):\n",
    "            print(i,end=\" \")\n",
    "    else:\n",
    "        print(\"enter starting number from 2\")\n",
    "    "
   ]
  },
  {
   "cell_type": "code",
   "execution_count": 2,
   "metadata": {},
   "outputs": [
    {
     "name": "stdout",
     "output_type": "stream",
     "text": [
      "enter a string:one\n",
      "enter another string:two\n",
      "newo\n"
     ]
    }
   ],
   "source": [
    "# given two strings,return their concatenation,except omit the first char of each\n",
    "\n",
    "# ex: one two => newo; bhanu prakash => hanurakash\n",
    "\n",
    "s=input(\"enter a string:\")\n",
    "s1=input(\"enter another string:\")\n",
    "s3=s[1:]+s1[1:]\n",
    "print(s3)"
   ]
  },
  {
   "cell_type": "code",
   "execution_count": 3,
   "metadata": {},
   "outputs": [
    {
     "data": {
      "text/plain": [
       "'pssdc'"
      ]
     },
     "execution_count": 3,
     "metadata": {},
     "output_type": "execute_result"
    }
   ],
   "source": [
    "s = \"apssdc\"\n",
    "# \"pssdc\"\n",
    "s[1:]"
   ]
  },
  {
   "cell_type": "code",
   "execution_count": 4,
   "metadata": {},
   "outputs": [
    {
     "data": {
      "text/plain": [
       "'ssdc'"
      ]
     },
     "execution_count": 4,
     "metadata": {},
     "output_type": "execute_result"
    }
   ],
   "source": [
    "s[2:]"
   ]
  },
  {
   "cell_type": "code",
   "execution_count": 5,
   "metadata": {},
   "outputs": [
    {
     "name": "stdout",
     "output_type": "stream",
     "text": [
      "enter a string:one\n",
      "enter second string:two\n"
     ]
    },
    {
     "data": {
      "text/plain": [
       "'newo'"
      ]
     },
     "execution_count": 5,
     "metadata": {},
     "output_type": "execute_result"
    }
   ],
   "source": [
    "def concat(s,s1):\n",
    "    s2 = s[1:]+s1[1:]\n",
    "    return s2\n",
    "concat(input(\"enter a string:\"),input(\"enter second string:\"))"
   ]
  },
  {
   "cell_type": "code",
   "execution_count": 1,
   "metadata": {},
   "outputs": [
    {
     "name": "stdout",
     "output_type": "stream",
     "text": [
      "enter the data:20\n",
      "enter the data:30\n",
      "enter the data:40\n"
     ]
    }
   ],
   "source": [
    "for i in range(3):\n",
    "    f = open(\"su.txt\",\"a\")\n",
    "    f.write((input(\"enter the data:\"))+\"\\n\")\n",
    "    f.close()"
   ]
  },
  {
   "cell_type": "code",
   "execution_count": 2,
   "metadata": {},
   "outputs": [
    {
     "data": {
      "text/plain": [
       "27"
      ]
     },
     "execution_count": 2,
     "metadata": {},
     "output_type": "execute_result"
    }
   ],
   "source": [
    "a = \"27\"\n",
    "int(a)"
   ]
  },
  {
   "cell_type": "code",
   "execution_count": 5,
   "metadata": {},
   "outputs": [
    {
     "name": "stdout",
     "output_type": "stream",
     "text": [
      "['20\\n', '30\\n', '40\\n'] line by line\n",
      "20\n",
      " number\n",
      "30\n",
      " number\n",
      "40\n",
      " number\n",
      "90 total sum\n"
     ]
    }
   ],
   "source": [
    "s = 0\n",
    "f = open(\"su.txt\",\"r\")\n",
    "data = f.readlines()\n",
    "print(data,\"line by line\")\n",
    "for ele in data:\n",
    "    print((ele),\"number\")\n",
    "    s = int(ele) + s # 34+0=34=s,20+34=54=s,23+45=68=s\n",
    "print(s,\"total sum\")\n",
    "f.close()"
   ]
  },
  {
   "cell_type": "code",
   "execution_count": 6,
   "metadata": {},
   "outputs": [
    {
     "data": {
      "text/plain": [
       "90"
      ]
     },
     "execution_count": 6,
     "metadata": {},
     "output_type": "execute_result"
    }
   ],
   "source": [
    "s"
   ]
  },
  {
   "cell_type": "code",
   "execution_count": null,
   "metadata": {},
   "outputs": [],
   "source": []
  }
 ],
 "metadata": {
  "kernelspec": {
   "display_name": "Python 3",
   "language": "python",
   "name": "python3"
  },
  "language_info": {
   "codemirror_mode": {
    "name": "ipython",
    "version": 3
   },
   "file_extension": ".py",
   "mimetype": "text/x-python",
   "name": "python",
   "nbconvert_exporter": "python",
   "pygments_lexer": "ipython3",
   "version": "3.7.4"
  }
 },
 "nbformat": 4,
 "nbformat_minor": 4
}
