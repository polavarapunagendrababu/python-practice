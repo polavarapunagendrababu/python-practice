{
 "cells": [
  {
   "cell_type": "markdown",
   "metadata": {},
   "source": [
    "# Today concepts\n",
    "## 16-09-20\n",
    "### Jupyter  notebook\n",
    " -\n",
    " -\n",
    "### Main Heading\n",
    "- #### sub Heading1\n",
    "  - ## sub Heading2\n",
    "<h2> i am h2 tag</h2>\n",
    "<p> i am p tag</p>\n",
    "<a href=''>i am <a> tag </a>\n",
    "<img src='pythonlogo.png'>\n",
    "    \n"
   ]
  },
  {
   "cell_type": "code",
   "execution_count": null,
   "metadata": {},
   "outputs": [],
   "source": [
    "print(\"hai,hello\")\n",
    "print (\"i am using jupyter notebook\")\n",
    "4+7\n",
    "print(\"i am from gudlavalleru\")\n",
    "56+4\n"
   ]
  }
 ],
 "metadata": {
  "kernelspec": {
   "display_name": "Python 3",
   "language": "python",
   "name": "python3"
  },
  "language_info": {
   "codemirror_mode": {
    "name": "ipython",
    "version": 3
   },
   "file_extension": ".py",
   "mimetype": "text/x-python",
   "name": "python",
   "nbconvert_exporter": "python",
   "pygments_lexer": "ipython3",
   "version": "3.7.4"
  }
 },
 "nbformat": 4,
 "nbformat_minor": 4
}
