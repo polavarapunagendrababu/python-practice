{
 "cells": [
  {
   "cell_type": "markdown",
   "metadata": {},
   "source": [
    "### Dictionary\n",
    "   - mutable\n",
    "   - key,value-pair\n",
    "   - key:any data type:int,str,float\n",
    "   - values:any data type and any data structure list,tuple,set,str,dict\n",
    "   - keys are unique in nature\n",
    "   - key value together called an item"
   ]
  },
  {
   "cell_type": "code",
   "execution_count": 1,
   "metadata": {},
   "outputs": [],
   "source": [
    "dic = {'key':'value','string':'name','integer':12,'float':9.6,123:'int'}"
   ]
  },
  {
   "cell_type": "code",
   "execution_count": 2,
   "metadata": {},
   "outputs": [
    {
     "data": {
      "text/plain": [
       "{'key': 'value', 'string': 'name', 'integer': 12, 'float': 9.6, 123: 'int'}"
      ]
     },
     "execution_count": 2,
     "metadata": {},
     "output_type": "execute_result"
    }
   ],
   "source": [
    "dic"
   ]
  },
  {
   "cell_type": "code",
   "execution_count": 3,
   "metadata": {},
   "outputs": [
    {
     "name": "stdout",
     "output_type": "stream",
     "text": [
      "['__class__', '__contains__', '__delattr__', '__delitem__', '__dir__', '__doc__', '__eq__', '__format__', '__ge__', '__getattribute__', '__getitem__', '__gt__', '__hash__', '__init__', '__init_subclass__', '__iter__', '__le__', '__len__', '__lt__', '__ne__', '__new__', '__reduce__', '__reduce_ex__', '__repr__', '__setattr__', '__setitem__', '__sizeof__', '__str__', '__subclasshook__', 'clear', 'copy', 'fromkeys', 'get', 'items', 'keys', 'pop', 'popitem', 'setdefault', 'update', 'values']\n"
     ]
    }
   ],
   "source": [
    "print(dir(dict))"
   ]
  },
  {
   "cell_type": "code",
   "execution_count": 4,
   "metadata": {},
   "outputs": [],
   "source": [
    "dic1 = dic.copy() "
   ]
  },
  {
   "cell_type": "code",
   "execution_count": 5,
   "metadata": {},
   "outputs": [
    {
     "data": {
      "text/plain": [
       "{'key': 'value', 'string': 'name', 'integer': 12, 'float': 9.6, 123: 'int'}"
      ]
     },
     "execution_count": 5,
     "metadata": {},
     "output_type": "execute_result"
    }
   ],
   "source": [
    "dic1"
   ]
  },
  {
   "cell_type": "code",
   "execution_count": 6,
   "metadata": {},
   "outputs": [],
   "source": [
    "dic.clear()"
   ]
  },
  {
   "cell_type": "code",
   "execution_count": 7,
   "metadata": {},
   "outputs": [
    {
     "data": {
      "text/plain": [
       "{}"
      ]
     },
     "execution_count": 7,
     "metadata": {},
     "output_type": "execute_result"
    }
   ],
   "source": [
    "dic"
   ]
  },
  {
   "cell_type": "code",
   "execution_count": 8,
   "metadata": {},
   "outputs": [
    {
     "data": {
      "text/plain": [
       "'name'"
      ]
     },
     "execution_count": 8,
     "metadata": {},
     "output_type": "execute_result"
    }
   ],
   "source": [
    "dic1.get(\"string\")"
   ]
  },
  {
   "cell_type": "code",
   "execution_count": 9,
   "metadata": {},
   "outputs": [
    {
     "data": {
      "text/plain": [
       "'int'"
      ]
     },
     "execution_count": 9,
     "metadata": {},
     "output_type": "execute_result"
    }
   ],
   "source": [
    "dic1.get(123)"
   ]
  },
  {
   "cell_type": "code",
   "execution_count": 10,
   "metadata": {},
   "outputs": [
    {
     "data": {
      "text/plain": [
       "dict_items([('key', 'value'), ('string', 'name'), ('integer', 12), ('float', 9.6), (123, 'int')])"
      ]
     },
     "execution_count": 10,
     "metadata": {},
     "output_type": "execute_result"
    }
   ],
   "source": [
    "dic1.items()"
   ]
  },
  {
   "cell_type": "code",
   "execution_count": 11,
   "metadata": {},
   "outputs": [
    {
     "data": {
      "text/plain": [
       "dict_keys(['key', 'string', 'integer', 'float', 123])"
      ]
     },
     "execution_count": 11,
     "metadata": {},
     "output_type": "execute_result"
    }
   ],
   "source": [
    "dic1.keys()"
   ]
  },
  {
   "cell_type": "code",
   "execution_count": 12,
   "metadata": {},
   "outputs": [
    {
     "data": {
      "text/plain": [
       "dict_values(['value', 'name', 12, 9.6, 'int'])"
      ]
     },
     "execution_count": 12,
     "metadata": {},
     "output_type": "execute_result"
    }
   ],
   "source": [
    "dic1.values()"
   ]
  },
  {
   "cell_type": "code",
   "execution_count": 13,
   "metadata": {},
   "outputs": [
    {
     "data": {
      "text/plain": [
       "12"
      ]
     },
     "execution_count": 13,
     "metadata": {},
     "output_type": "execute_result"
    }
   ],
   "source": [
    "dic1.pop(\"integer\")"
   ]
  },
  {
   "cell_type": "code",
   "execution_count": 14,
   "metadata": {},
   "outputs": [
    {
     "data": {
      "text/plain": [
       "{'key': 'value', 'string': 'name', 'float': 9.6, 123: 'int'}"
      ]
     },
     "execution_count": 14,
     "metadata": {},
     "output_type": "execute_result"
    }
   ],
   "source": [
    "dic1"
   ]
  },
  {
   "cell_type": "code",
   "execution_count": 15,
   "metadata": {},
   "outputs": [
    {
     "data": {
      "text/plain": [
       "(123, 'int')"
      ]
     },
     "execution_count": 15,
     "metadata": {},
     "output_type": "execute_result"
    }
   ],
   "source": [
    "dic1.popitem()"
   ]
  },
  {
   "cell_type": "code",
   "execution_count": 17,
   "metadata": {},
   "outputs": [],
   "source": [
    "dic1.update({1:[\"int\",12,34,6]})"
   ]
  },
  {
   "cell_type": "code",
   "execution_count": 18,
   "metadata": {},
   "outputs": [
    {
     "data": {
      "text/plain": [
       "{'key': 'value', 'string': 'name', 'float': 9.6, 1: ['int', 12, 34, 6]}"
      ]
     },
     "execution_count": 18,
     "metadata": {},
     "output_type": "execute_result"
    }
   ],
   "source": [
    "dic1"
   ]
  },
  {
   "cell_type": "code",
   "execution_count": 19,
   "metadata": {},
   "outputs": [],
   "source": [
    "dic1[\"23\"]=\"apsssdc\""
   ]
  },
  {
   "cell_type": "code",
   "execution_count": 20,
   "metadata": {},
   "outputs": [
    {
     "data": {
      "text/plain": [
       "{'key': 'value',\n",
       " 'string': 'name',\n",
       " 'float': 9.6,\n",
       " 1: ['int', 12, 34, 6],\n",
       " '23': 'apsssdc'}"
      ]
     },
     "execution_count": 20,
     "metadata": {},
     "output_type": "execute_result"
    }
   ],
   "source": [
    "dic1"
   ]
  },
  {
   "cell_type": "code",
   "execution_count": 21,
   "metadata": {},
   "outputs": [],
   "source": [
    "dic1[\"string\"] = \"nagendra\""
   ]
  },
  {
   "cell_type": "code",
   "execution_count": 22,
   "metadata": {},
   "outputs": [
    {
     "data": {
      "text/plain": [
       "{'key': 'value',\n",
       " 'string': 'nagendra',\n",
       " 'float': 9.6,\n",
       " 1: ['int', 12, 34, 6],\n",
       " '23': 'apsssdc'}"
      ]
     },
     "execution_count": 22,
     "metadata": {},
     "output_type": "execute_result"
    }
   ],
   "source": [
    "dic1"
   ]
  },
  {
   "cell_type": "code",
   "execution_count": 26,
   "metadata": {},
   "outputs": [
    {
     "data": {
      "text/plain": [
       "{'key': None, 'string': None}"
      ]
     },
     "execution_count": 26,
     "metadata": {},
     "output_type": "execute_result"
    }
   ],
   "source": [
    "x = (\"key\",\"string\")\n",
    "dic1.fromkeys(x)"
   ]
  },
  {
   "cell_type": "code",
   "execution_count": 27,
   "metadata": {},
   "outputs": [
    {
     "data": {
      "text/plain": [
       "{'key': 'value',\n",
       " 'string': 'nagendra',\n",
       " 'float': 9.6,\n",
       " 1: ['int', 12, 34, 6],\n",
       " '23': 'apsssdc'}"
      ]
     },
     "execution_count": 27,
     "metadata": {},
     "output_type": "execute_result"
    }
   ],
   "source": [
    "dic1"
   ]
  },
  {
   "cell_type": "code",
   "execution_count": 31,
   "metadata": {},
   "outputs": [],
   "source": [
    "keys = {\"a\",\"b\",\"c\",\"d\"}\n",
    "value = {\"alp\",\"abc\",\"def\",\"rt\"}\n",
    "v = dict.fromkeys(keys,value) "
   ]
  },
  {
   "cell_type": "code",
   "execution_count": 32,
   "metadata": {},
   "outputs": [
    {
     "data": {
      "text/plain": [
       "{'a': {'abc', 'alp', 'def', 'rt'},\n",
       " 'd': {'abc', 'alp', 'def', 'rt'},\n",
       " 'c': {'abc', 'alp', 'def', 'rt'},\n",
       " 'b': {'abc', 'alp', 'def', 'rt'}}"
      ]
     },
     "execution_count": 32,
     "metadata": {},
     "output_type": "execute_result"
    }
   ],
   "source": [
    "v"
   ]
  },
  {
   "cell_type": "code",
   "execution_count": 33,
   "metadata": {},
   "outputs": [
    {
     "name": "stdout",
     "output_type": "stream",
     "text": [
      "Help on built-in function fromkeys:\n",
      "\n",
      "fromkeys(iterable, value=None, /) method of builtins.type instance\n",
      "    Create a new dictionary with keys from iterable and values set to value.\n",
      "\n"
     ]
    }
   ],
   "source": [
    "help(dict.fromkeys)"
   ]
  },
  {
   "cell_type": "code",
   "execution_count": 34,
   "metadata": {},
   "outputs": [
    {
     "name": "stdout",
     "output_type": "stream",
     "text": [
      "key\n",
      "string\n",
      "float\n",
      "1\n",
      "23\n"
     ]
    }
   ],
   "source": [
    "for item in dic1.keys():\n",
    "    print(item)"
   ]
  },
  {
   "cell_type": "code",
   "execution_count": 36,
   "metadata": {},
   "outputs": [
    {
     "name": "stdout",
     "output_type": "stream",
     "text": [
      "value\n",
      "nagendra\n",
      "9.6\n",
      "['int', 12, 34, 6]\n",
      "apsssdc\n"
     ]
    }
   ],
   "source": [
    "for item in dic1.values():\n",
    "    print(item)"
   ]
  },
  {
   "cell_type": "code",
   "execution_count": 37,
   "metadata": {},
   "outputs": [
    {
     "name": "stdout",
     "output_type": "stream",
     "text": [
      "('key', 'value')\n",
      "('string', 'nagendra')\n",
      "('float', 9.6)\n",
      "(1, ['int', 12, 34, 6])\n",
      "('23', 'apsssdc')\n"
     ]
    }
   ],
   "source": [
    "for item in dic1.items():\n",
    "    print(item)"
   ]
  },
  {
   "cell_type": "code",
   "execution_count": 39,
   "metadata": {},
   "outputs": [
    {
     "name": "stdout",
     "output_type": "stream",
     "text": [
      "key\n",
      "string\n",
      "float\n",
      "1\n",
      "23\n"
     ]
    }
   ],
   "source": [
    "for key,value in dic1.items():\n",
    "    print(key)"
   ]
  },
  {
   "cell_type": "code",
   "execution_count": 40,
   "metadata": {},
   "outputs": [
    {
     "name": "stdout",
     "output_type": "stream",
     "text": [
      "key value\n",
      "string nagendra\n",
      "float 9.6\n",
      "1 ['int', 12, 34, 6]\n",
      "23 apsssdc\n"
     ]
    }
   ],
   "source": [
    "for key,value in dic1.items():\n",
    "    print(key,value)"
   ]
  },
  {
   "cell_type": "code",
   "execution_count": 41,
   "metadata": {},
   "outputs": [
    {
     "name": "stdout",
     "output_type": "stream",
     "text": [
      "key:value\n",
      "string:nagendra\n",
      "float:9.6\n",
      "1:['int', 12, 34, 6]\n",
      "23:apsssdc\n"
     ]
    }
   ],
   "source": [
    "for key,value in dic1.items():\n",
    "    print(key,value,sep=\":\")"
   ]
  },
  {
   "cell_type": "code",
   "execution_count": 43,
   "metadata": {},
   "outputs": [
    {
     "data": {
      "text/plain": [
       "{1: 1,\n",
       " 2: 4,\n",
       " 3: 9,\n",
       " 4: 16,\n",
       " 5: 25,\n",
       " 6: 36,\n",
       " 7: 49,\n",
       " 8: 64,\n",
       " 9: 81,\n",
       " 10: 100,\n",
       " 11: 121,\n",
       " 12: 144,\n",
       " 13: 169,\n",
       " 14: 196,\n",
       " 15: 225}"
      ]
     },
     "execution_count": 43,
     "metadata": {},
     "output_type": "execute_result"
    }
   ],
   "source": [
    "# prepare a dictionaryof squares values of number from 1 to 15\n",
    "#{1:1,2:4,3:9,............15:225}\n",
    "squares = {}\n",
    "for i in range(1,16):\n",
    "    squares[i] =i**2\n",
    "squares"
   ]
  },
  {
   "cell_type": "code",
   "execution_count": 45,
   "metadata": {},
   "outputs": [
    {
     "data": {
      "text/plain": [
       "{'A': 65, 'B': 66, 'C': 67, 'D': 68, 'E': 69, 'F': 70, 'G': 71, 'H': 72}"
      ]
     },
     "execution_count": 45,
     "metadata": {},
     "output_type": "execute_result"
    }
   ],
   "source": [
    "# prepare a dictionay of chars from A to H with their ascii values\n",
    "# A to Z = 65 to 90\n",
    "#a to z = 97 to 122\n",
    "#{\"A\":65,\"B\":66.................\"H\"}\n",
    "d = {}\n",
    "value = 65\n",
    "for i in range(8):\n",
    "    d[chr(value)] = value\n",
    "    \n",
    "    value+=1\n",
    "d"
   ]
  },
  {
   "cell_type": "code",
   "execution_count": 47,
   "metadata": {},
   "outputs": [
    {
     "data": {
      "text/plain": [
       "'B'"
      ]
     },
     "execution_count": 47,
     "metadata": {},
     "output_type": "execute_result"
    }
   ],
   "source": [
    "chr(66)"
   ]
  },
  {
   "cell_type": "code",
   "execution_count": 48,
   "metadata": {},
   "outputs": [
    {
     "data": {
      "text/plain": [
       "65"
      ]
     },
     "execution_count": 48,
     "metadata": {},
     "output_type": "execute_result"
    }
   ],
   "source": [
    "ord(\"A\")"
   ]
  },
  {
   "cell_type": "code",
   "execution_count": 1,
   "metadata": {},
   "outputs": [
    {
     "data": {
      "text/plain": [
       "{1: 3, 2: 2, 3: 2, 4: 5, 5: 1, 6: 1}"
      ]
     },
     "execution_count": 1,
     "metadata": {},
     "output_type": "execute_result"
    }
   ],
   "source": [
    "# countihg the elements\n",
    "a = [1,2,3,2,1,3,4,4,4,4,4,5,6,1]\n",
    "# {1:3,2:2,3:2,4:}\n",
    "d = {}# 1:1,2:1,3:1,\n",
    "for i in a: #1\n",
    "    if i not in d:#1\n",
    "        d[i] = 1# 1:1\n",
    "    else:\n",
    "        d[i]+=1# 2:2\n",
    "d"
   ]
  },
  {
   "cell_type": "code",
   "execution_count": 2,
   "metadata": {},
   "outputs": [
    {
     "data": {
      "text/plain": [
       "{1: 3, 2: 2, 3: 2, 4: 5, 5: 1, 6: 1}"
      ]
     },
     "execution_count": 2,
     "metadata": {},
     "output_type": "execute_result"
    }
   ],
   "source": [
    "a = [1,2,3,2,1,3,4,4,4,4,4,5,6,1]\n",
    "d={}\n",
    "for i in a:\n",
    "    d[i]=a.count(i)\n",
    "d\n"
   ]
  },
  {
   "cell_type": "markdown",
   "metadata": {},
   "source": [
    "### packages and modules"
   ]
  },
  {
   "cell_type": "code",
   "execution_count": 3,
   "metadata": {},
   "outputs": [
    {
     "name": "stdout",
     "output_type": "stream",
     "text": [
      "\n",
      "Please wait a moment while I gather a list of all available modules...\n",
      "\n"
     ]
    },
    {
     "name": "stderr",
     "output_type": "stream",
     "text": [
      "c:\\users\\elcot\\appdata\\local\\programs\\python\\python37-32\\lib\\site-packages\\IPython\\kernel\\__init__.py:13: ShimWarning: The `IPython.kernel` package has been deprecated since IPython 4.0.You should import from ipykernel or jupyter_client instead.\n",
      "  \"You should import from ipykernel or jupyter_client instead.\", ShimWarning)\n",
      "c:\\users\\elcot\\appdata\\local\\programs\\python\\python37-32\\lib\\pkgutil.py:107: VisibleDeprecationWarning: zmq.eventloop.minitornado is deprecated in pyzmq 14.0 and will be removed.\n",
      "    Install tornado itself to use zmq with the tornado IOLoop.\n",
      "    \n",
      "  yield from walk_packages(path, info.name+'.', onerror)\n"
     ]
    },
    {
     "name": "stdout",
     "output_type": "stream",
     "text": [
      "IPython             bz2                 mmsystem            sympyprinting\n",
      "__future__          cProfile            modulefinder        symtable\n",
      "_abc                calendar            msilib              sys\n",
      "_ast                cffi                msvcrt              sysconfig\n",
      "_asyncio            cgi                 multiprocessing     tabnanny\n",
      "_bisect             cgitb               nbclient            tarfile\n",
      "_blake2             chunk               nbconvert           telnetlib\n",
      "_bootlocale         cmath               nbformat            tempfile\n",
      "_bz2                cmd                 nest_asyncio        terminado\n",
      "_cffi_backend       code                netbios             test\n",
      "_codecs             codecs              netrc               testpath\n",
      "_codecs_cn          codeop              nntplib             tests\n",
      "_codecs_hk          collections         notebook            textwrap\n",
      "_codecs_iso2022     colorama            nt                  this\n",
      "_codecs_jp          colorsys            ntpath              threading\n",
      "_codecs_kr          commctrl            ntsecuritycon       time\n",
      "_codecs_tw          compileall          nturl2path          timeit\n",
      "_collections        concurrent          numbers             timer\n",
      "_collections_abc    configparser        odbc                tkinter\n",
      "_compat_pickle      contextlib          opcode              token\n",
      "_compression        contextvars         operator            tokenize\n",
      "_contextvars        copy                optparse            tornado\n",
      "_csv                copyreg             os                  trace\n",
      "_ctypes             crypt               packaging           traceback\n",
      "_ctypes_test        csv                 pandocfilters       tracemalloc\n",
      "_datetime           ctypes              parser              traitlets\n",
      "_decimal            curses              parso               tty\n",
      "_dummy_thread       cythonmagic         pathlib             turtle\n",
      "_elementtree        dataclasses         pdb                 turtledemo\n",
      "_functools          datetime            perfmon             types\n",
      "_hashlib            dateutil            pickle              typing\n",
      "_heapq              dbi                 pickleshare         unicodedata\n",
      "_imp                dbm                 pickletools         unittest\n",
      "_io                 dde                 pip                 urllib\n",
      "_json               decimal             pipes               uu\n",
      "_locale             decorator           pkg_resources       uuid\n",
      "_lsprof             defusedxml          pkgutil             venv\n",
      "_lzma               difflib             platform            warnings\n",
      "_markupbase         dis                 plistlib            wave\n",
      "_md5                distutils           poplib              wcwidth\n",
      "_msi                doctest             posixpath           weakref\n",
      "_multibytecodec     dummy_threading     pprint              webbrowser\n",
      "_multiprocessing    easy_install        profile             webencodings\n",
      "_opcode             email               prometheus_client   widgetsnbextension\n",
      "_operator           encodings           prompt_toolkit      win2kras\n",
      "_osx_support        ensurepip           pstats              win32api\n",
      "_overlapped         entrypoints         pty                 win32clipboard\n",
      "_pickle             enum                py_compile          win32com\n",
      "_py_abc             errno               pyclbr              win32con\n",
      "_pydecimal          faulthandler        pycparser           win32console\n",
      "_pyio               filecmp             pydoc               win32cred\n",
      "_pyrsistent_version fileinput           pydoc_data          win32crypt\n",
      "_queue              fnmatch             pyexpat             win32cryptcon\n",
      "_random             formatter           pygments            win32event\n",
      "_sha1               fractions           pyparsing           win32evtlog\n",
      "_sha256             ftplib              pyrsistent          win32evtlogutil\n",
      "_sha3               functools           pythoncom           win32file\n",
      "_sha512             gc                  pywin               win32gui\n",
      "_signal             genericpath         pywin32_bootstrap   win32gui_struct\n",
      "_sitebuiltins       getopt              pywin32_testutil    win32help\n",
      "_socket             getpass             pywintypes          win32inet\n",
      "_sqlite3            gettext             qtconsole           win32inetcon\n",
      "_sre                glob                qtpy                win32job\n",
      "_ssl                gzip                queue               win32lz\n",
      "_stat               hashlib             quopri              win32net\n",
      "_string             heapq               random              win32netcon\n",
      "_strptime           hmac                rasutil             win32pdh\n",
      "_struct             html                re                  win32pdhquery\n",
      "_symtable           http                regcheck            win32pdhutil\n",
      "_testbuffer         idlelib             regutil             win32pipe\n",
      "_testcapi           imaplib             reprlib             win32print\n",
      "_testconsole        imghdr              rlcompleter         win32process\n",
      "_testimportmultiple imp                 rmagic              win32profile\n",
      "_testmultiphase     importlib           runpy               win32ras\n",
      "_thread             importlib_metadata  sample              win32rcparser\n",
      "_threading_local    inspect             sched               win32security\n",
      "_tkinter            io                  secrets             win32service\n",
      "_tracemalloc        ipaddress           select              win32serviceutil\n",
      "_warnings           ipykernel           selectors           win32timezone\n",
      "_weakref            ipykernel_launcher  send2trash          win32trace\n",
      "_weakrefset         ipython_genutils    servicemanager      win32traceutil\n",
      "_win32sysloader     ipywidgets          setuptools          win32transaction\n",
      "_winapi             isapi               shelve              win32ts\n",
      "_winxptheme         itertools           shlex               win32ui\n",
      "abc                 jedi                shutil              win32uiole\n",
      "adodbapi            jinja2              signal              win32verstamp\n",
      "afxres              json                site                win32wnet\n",
      "aifc                jsonschema          six                 winerror\n",
      "antigravity         jupyter             smtpd               winioctlcon\n",
      "argon2              jupyter_client      smtplib             winnt\n",
      "argparse            jupyter_console     sndhdr              winperf\n",
      "array               jupyter_core        socket              winpty\n",
      "ast                 jupyterlab_pygments socketserver        winreg\n",
      "async_generator     keyword             sqlite3             winsound\n",
      "asynchat            lib2to3             sre_compile         winxpgui\n",
      "asyncio             linecache           sre_constants       winxptheme\n",
      "asyncore            locale              sre_parse           wsgiref\n",
      "atexit              logging             ssl                 xdrlib\n",
      "attr                lzma                sspi                xml\n",
      "audioop             macpath             sspicon             xmlrpc\n",
      "autoreload          mailbox             stat                xxsubtype\n",
      "backcall            mailcap             statistics          zipapp\n",
      "base64              markupsafe          storemagic          zipfile\n",
      "bdb                 marshal             string              zipimport\n",
      "binascii            math                stringprep          zipp\n",
      "binhex              mimetypes           struct              zlib\n",
      "bisect              mistune             subprocess          zmq\n",
      "bleach              mmap                sunau               \n",
      "builtins            mmapfile            symbol              \n",
      "\n",
      "Enter any module name to get more help.  Or, type \"modules spam\" to search\n",
      "for modules whose name or summary contain the string \"spam\".\n",
      "\n"
     ]
    }
   ],
   "source": [
    "help(\"modules\")"
   ]
  },
  {
   "cell_type": "code",
   "execution_count": 4,
   "metadata": {},
   "outputs": [],
   "source": [
    "import math"
   ]
  },
  {
   "cell_type": "code",
   "execution_count": 5,
   "metadata": {},
   "outputs": [
    {
     "name": "stdout",
     "output_type": "stream",
     "text": [
      "['__doc__', '__loader__', '__name__', '__package__', '__spec__', 'acos', 'acosh', 'asin', 'asinh', 'atan', 'atan2', 'atanh', 'ceil', 'copysign', 'cos', 'cosh', 'degrees', 'e', 'erf', 'erfc', 'exp', 'expm1', 'fabs', 'factorial', 'floor', 'fmod', 'frexp', 'fsum', 'gamma', 'gcd', 'hypot', 'inf', 'isclose', 'isfinite', 'isinf', 'isnan', 'ldexp', 'lgamma', 'log', 'log10', 'log1p', 'log2', 'modf', 'nan', 'pi', 'pow', 'radians', 'remainder', 'sin', 'sinh', 'sqrt', 'tan', 'tanh', 'tau', 'trunc']\n"
     ]
    }
   ],
   "source": [
    "print(dir(math))"
   ]
  },
  {
   "cell_type": "code",
   "execution_count": 6,
   "metadata": {},
   "outputs": [
    {
     "name": "stdout",
     "output_type": "stream",
     "text": [
      "Help on built-in module math:\n",
      "\n",
      "NAME\n",
      "    math\n",
      "\n",
      "DESCRIPTION\n",
      "    This module provides access to the mathematical functions\n",
      "    defined by the C standard.\n",
      "\n",
      "FUNCTIONS\n",
      "    acos(x, /)\n",
      "        Return the arc cosine (measured in radians) of x.\n",
      "    \n",
      "    acosh(x, /)\n",
      "        Return the inverse hyperbolic cosine of x.\n",
      "    \n",
      "    asin(x, /)\n",
      "        Return the arc sine (measured in radians) of x.\n",
      "    \n",
      "    asinh(x, /)\n",
      "        Return the inverse hyperbolic sine of x.\n",
      "    \n",
      "    atan(x, /)\n",
      "        Return the arc tangent (measured in radians) of x.\n",
      "    \n",
      "    atan2(y, x, /)\n",
      "        Return the arc tangent (measured in radians) of y/x.\n",
      "        \n",
      "        Unlike atan(y/x), the signs of both x and y are considered.\n",
      "    \n",
      "    atanh(x, /)\n",
      "        Return the inverse hyperbolic tangent of x.\n",
      "    \n",
      "    ceil(x, /)\n",
      "        Return the ceiling of x as an Integral.\n",
      "        \n",
      "        This is the smallest integer >= x.\n",
      "    \n",
      "    copysign(x, y, /)\n",
      "        Return a float with the magnitude (absolute value) of x but the sign of y.\n",
      "        \n",
      "        On platforms that support signed zeros, copysign(1.0, -0.0)\n",
      "        returns -1.0.\n",
      "    \n",
      "    cos(x, /)\n",
      "        Return the cosine of x (measured in radians).\n",
      "    \n",
      "    cosh(x, /)\n",
      "        Return the hyperbolic cosine of x.\n",
      "    \n",
      "    degrees(x, /)\n",
      "        Convert angle x from radians to degrees.\n",
      "    \n",
      "    erf(x, /)\n",
      "        Error function at x.\n",
      "    \n",
      "    erfc(x, /)\n",
      "        Complementary error function at x.\n",
      "    \n",
      "    exp(x, /)\n",
      "        Return e raised to the power of x.\n",
      "    \n",
      "    expm1(x, /)\n",
      "        Return exp(x)-1.\n",
      "        \n",
      "        This function avoids the loss of precision involved in the direct evaluation of exp(x)-1 for small x.\n",
      "    \n",
      "    fabs(x, /)\n",
      "        Return the absolute value of the float x.\n",
      "    \n",
      "    factorial(x, /)\n",
      "        Find x!.\n",
      "        \n",
      "        Raise a ValueError if x is negative or non-integral.\n",
      "    \n",
      "    floor(x, /)\n",
      "        Return the floor of x as an Integral.\n",
      "        \n",
      "        This is the largest integer <= x.\n",
      "    \n",
      "    fmod(x, y, /)\n",
      "        Return fmod(x, y), according to platform C.\n",
      "        \n",
      "        x % y may differ.\n",
      "    \n",
      "    frexp(x, /)\n",
      "        Return the mantissa and exponent of x, as pair (m, e).\n",
      "        \n",
      "        m is a float and e is an int, such that x = m * 2.**e.\n",
      "        If x is 0, m and e are both 0.  Else 0.5 <= abs(m) < 1.0.\n",
      "    \n",
      "    fsum(seq, /)\n",
      "        Return an accurate floating point sum of values in the iterable seq.\n",
      "        \n",
      "        Assumes IEEE-754 floating point arithmetic.\n",
      "    \n",
      "    gamma(x, /)\n",
      "        Gamma function at x.\n",
      "    \n",
      "    gcd(x, y, /)\n",
      "        greatest common divisor of x and y\n",
      "    \n",
      "    hypot(x, y, /)\n",
      "        Return the Euclidean distance, sqrt(x*x + y*y).\n",
      "    \n",
      "    isclose(a, b, *, rel_tol=1e-09, abs_tol=0.0)\n",
      "        Determine whether two floating point numbers are close in value.\n",
      "        \n",
      "          rel_tol\n",
      "            maximum difference for being considered \"close\", relative to the\n",
      "            magnitude of the input values\n",
      "          abs_tol\n",
      "            maximum difference for being considered \"close\", regardless of the\n",
      "            magnitude of the input values\n",
      "        \n",
      "        Return True if a is close in value to b, and False otherwise.\n",
      "        \n",
      "        For the values to be considered close, the difference between them\n",
      "        must be smaller than at least one of the tolerances.\n",
      "        \n",
      "        -inf, inf and NaN behave similarly to the IEEE 754 Standard.  That\n",
      "        is, NaN is not close to anything, even itself.  inf and -inf are\n",
      "        only close to themselves.\n",
      "    \n",
      "    isfinite(x, /)\n",
      "        Return True if x is neither an infinity nor a NaN, and False otherwise.\n",
      "    \n",
      "    isinf(x, /)\n",
      "        Return True if x is a positive or negative infinity, and False otherwise.\n",
      "    \n",
      "    isnan(x, /)\n",
      "        Return True if x is a NaN (not a number), and False otherwise.\n",
      "    \n",
      "    ldexp(x, i, /)\n",
      "        Return x * (2**i).\n",
      "        \n",
      "        This is essentially the inverse of frexp().\n",
      "    \n",
      "    lgamma(x, /)\n",
      "        Natural logarithm of absolute value of Gamma function at x.\n",
      "    \n",
      "    log(...)\n",
      "        log(x, [base=math.e])\n",
      "        Return the logarithm of x to the given base.\n",
      "        \n",
      "        If the base not specified, returns the natural logarithm (base e) of x.\n",
      "    \n",
      "    log10(x, /)\n",
      "        Return the base 10 logarithm of x.\n",
      "    \n",
      "    log1p(x, /)\n",
      "        Return the natural logarithm of 1+x (base e).\n",
      "        \n",
      "        The result is computed in a way which is accurate for x near zero.\n",
      "    \n",
      "    log2(x, /)\n",
      "        Return the base 2 logarithm of x.\n",
      "    \n",
      "    modf(x, /)\n",
      "        Return the fractional and integer parts of x.\n",
      "        \n",
      "        Both results carry the sign of x and are floats.\n",
      "    \n",
      "    pow(x, y, /)\n",
      "        Return x**y (x to the power of y).\n",
      "    \n",
      "    radians(x, /)\n",
      "        Convert angle x from degrees to radians.\n",
      "    \n",
      "    remainder(x, y, /)\n",
      "        Difference between x and the closest integer multiple of y.\n",
      "        \n",
      "        Return x - n*y where n*y is the closest integer multiple of y.\n",
      "        In the case where x is exactly halfway between two multiples of\n",
      "        y, the nearest even value of n is used. The result is always exact.\n",
      "    \n",
      "    sin(x, /)\n",
      "        Return the sine of x (measured in radians).\n",
      "    \n",
      "    sinh(x, /)\n",
      "        Return the hyperbolic sine of x.\n",
      "    \n",
      "    sqrt(x, /)\n",
      "        Return the square root of x.\n",
      "    \n",
      "    tan(x, /)\n",
      "        Return the tangent of x (measured in radians).\n",
      "    \n",
      "    tanh(x, /)\n",
      "        Return the hyperbolic tangent of x.\n",
      "    \n",
      "    trunc(x, /)\n",
      "        Truncates the Real x to the nearest Integral toward 0.\n",
      "        \n",
      "        Uses the __trunc__ magic method.\n",
      "\n",
      "DATA\n",
      "    e = 2.718281828459045\n",
      "    inf = inf\n",
      "    nan = nan\n",
      "    pi = 3.141592653589793\n",
      "    tau = 6.283185307179586\n",
      "\n",
      "FILE\n",
      "    (built-in)\n",
      "\n",
      "\n",
      "None\n"
     ]
    }
   ],
   "source": [
    "print(help(math))"
   ]
  },
  {
   "cell_type": "code",
   "execution_count": 7,
   "metadata": {},
   "outputs": [
    {
     "data": {
      "text/plain": [
       "3.1622776601683795"
      ]
     },
     "execution_count": 7,
     "metadata": {},
     "output_type": "execute_result"
    }
   ],
   "source": [
    "math.sqrt(10)"
   ]
  },
  {
   "cell_type": "code",
   "execution_count": 8,
   "metadata": {},
   "outputs": [
    {
     "data": {
      "text/plain": [
       "120"
      ]
     },
     "execution_count": 8,
     "metadata": {},
     "output_type": "execute_result"
    }
   ],
   "source": [
    "math.factorial(5)"
   ]
  },
  {
   "cell_type": "code",
   "execution_count": 9,
   "metadata": {},
   "outputs": [
    {
     "name": "stdout",
     "output_type": "stream",
     "text": [
      "Package             VersionNote: you may need to restart the kernel to use updated packages.\n"
     ]
    },
    {
     "name": "stderr",
     "output_type": "stream",
     "text": [
      "You are using pip version 19.0.3, however version 20.2.3 is available.\n",
      "You should consider upgrading via the 'python -m pip install --upgrade pip' command.\n"
     ]
    },
    {
     "name": "stdout",
     "output_type": "stream",
     "text": [
      "\n",
      "------------------- -------\n",
      "argon2-cffi         20.1.0 \n",
      "async-generator     1.10   \n",
      "attrs               20.2.0 \n",
      "backcall            0.2.0  \n",
      "bleach              3.1.5  \n",
      "cffi                1.14.3 \n",
      "colorama            0.4.3  \n",
      "decorator           4.4.2  \n",
      "defusedxml          0.6.0  \n",
      "entrypoints         0.3    \n",
      "importlib-metadata  1.7.0  \n",
      "ipykernel           5.3.4  \n",
      "ipython             7.18.1 \n",
      "ipython-genutils    0.2.0  \n",
      "ipywidgets          7.5.1  \n",
      "jedi                0.17.2 \n",
      "Jinja2              2.11.2 \n",
      "jsonschema          3.2.0  \n",
      "jupyter             1.0.0  \n",
      "jupyter-client      6.1.7  \n",
      "jupyter-console     6.2.0  \n",
      "jupyter-core        4.6.3  \n",
      "jupyterlab-pygments 0.1.1  \n",
      "MarkupSafe          1.1.1  \n",
      "mistune             0.8.4  \n",
      "nbclient            0.5.0  \n",
      "nbconvert           6.0.2  \n",
      "nbformat            5.0.7  \n",
      "nest-asyncio        1.4.0  \n",
      "notebook            6.1.4  \n",
      "packaging           20.4   \n",
      "pandocfilters       1.4.2  \n",
      "parso               0.7.1  \n",
      "pickleshare         0.7.5  \n",
      "pip                 19.0.3 \n",
      "prometheus-client   0.8.0  \n",
      "prompt-toolkit      3.0.7  \n",
      "pycparser           2.20   \n",
      "Pygments            2.7.0  \n",
      "pyparsing           2.4.7  \n",
      "pyrsistent          0.17.3 \n",
      "python-dateutil     2.8.1  \n",
      "pywin32             228    \n",
      "pywinpty            0.5.7  \n",
      "pyzmq               19.0.2 \n",
      "qtconsole           4.7.7  \n",
      "QtPy                1.9.0  \n",
      "Send2Trash          1.5.0  \n",
      "setuptools          40.8.0 \n",
      "six                 1.15.0 \n",
      "terminado           0.8.3  \n",
      "testpath            0.4.4  \n",
      "tornado             6.0.4  \n",
      "traitlets           5.0.4  \n",
      "wcwidth             0.2.5  \n",
      "webencodings        0.5.1  \n",
      "widgetsnbextension  3.5.1  \n",
      "zipp                3.1.0  \n"
     ]
    }
   ],
   "source": [
    "pip list # packages"
   ]
  },
  {
   "cell_type": "code",
   "execution_count": 10,
   "metadata": {},
   "outputs": [],
   "source": [
    "import modules"
   ]
  },
  {
   "cell_type": "code",
   "execution_count": 11,
   "metadata": {},
   "outputs": [
    {
     "name": "stdout",
     "output_type": "stream",
     "text": [
      "Help on module modules:\n",
      "\n",
      "NAME\n",
      "    modules\n",
      "\n",
      "FUNCTIONS\n",
      "    greeting(name)\n",
      "\n",
      "FILE\n",
      "    c:\\polytechnic-internship\\python programs\\nagendra\\modules.py\n",
      "\n",
      "\n"
     ]
    }
   ],
   "source": [
    "help(modules)"
   ]
  },
  {
   "cell_type": "code",
   "execution_count": 13,
   "metadata": {},
   "outputs": [
    {
     "name": "stdout",
     "output_type": "stream",
     "text": [
      "hello nagendra\n"
     ]
    }
   ],
   "source": [
    "modules.greeting(\"nagendra\")"
   ]
  },
  {
   "cell_type": "code",
   "execution_count": 17,
   "metadata": {},
   "outputs": [],
   "source": [
    " from pack import apssdc"
   ]
  },
  {
   "cell_type": "code",
   "execution_count": 18,
   "metadata": {},
   "outputs": [
    {
     "name": "stdout",
     "output_type": "stream",
     "text": [
      "Help on module pack.apssdc in pack:\n",
      "\n",
      "NAME\n",
      "    pack.apssdc\n",
      "\n",
      "FUNCTIONS\n",
      "    even(a)\n",
      "    \n",
      "    largest(a, b)\n",
      "\n",
      "FILE\n",
      "    c:\\polytechnic-internship\\python programs\\nagendra\\pack\\apssdc.py\n",
      "\n",
      "\n"
     ]
    }
   ],
   "source": [
    "help(apssdc)"
   ]
  },
  {
   "cell_type": "code",
   "execution_count": 19,
   "metadata": {},
   "outputs": [
    {
     "name": "stdout",
     "output_type": "stream",
     "text": [
      "odd\n"
     ]
    }
   ],
   "source": [
    "apssdc.even(5)"
   ]
  },
  {
   "cell_type": "code",
   "execution_count": 21,
   "metadata": {},
   "outputs": [
    {
     "name": "stdout",
     "output_type": "stream",
     "text": [
      "even\n"
     ]
    }
   ],
   "source": [
    "apssdc.even(6)"
   ]
  },
  {
   "cell_type": "code",
   "execution_count": 22,
   "metadata": {},
   "outputs": [
    {
     "name": "stdout",
     "output_type": "stream",
     "text": [
      "45\n"
     ]
    }
   ],
   "source": [
    "apssdc.largest(23,45)"
   ]
  },
  {
   "cell_type": "code",
   "execution_count": null,
   "metadata": {},
   "outputs": [],
   "source": []
  }
 ],
 "metadata": {
  "kernelspec": {
   "display_name": "Python 3",
   "language": "python",
   "name": "python3"
  },
  "language_info": {
   "codemirror_mode": {
    "name": "ipython",
    "version": 3
   },
   "file_extension": ".py",
   "mimetype": "text/x-python",
   "name": "python",
   "nbconvert_exporter": "python",
   "pygments_lexer": "ipython3",
   "version": "3.7.4"
  }
 },
 "nbformat": 4,
 "nbformat_minor": 4
}
