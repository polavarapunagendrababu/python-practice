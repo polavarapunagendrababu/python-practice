{
 "cells": [
  {
   "cell_type": "markdown",
   "metadata": {},
   "source": [
    "### Filehandling\n",
    " \n",
    "- what is a file\n",
    "- what is file handling\n",
    "- file methods\n",
    "- Different Modes\n",
    "- use of \"with\" statement\n",
    "- File:\n",
    "    - File is saved in some loaction on local system to store some information\n",
    "- Ex:\n",
    "    - .txt,.jpg,.html,.ipyb,.png,.pdf\n",
    "- Filehandling:\n",
    "    - create,reading,update,delete\n",
    "    - create\n",
    "    - open\n",
    "    - working\n",
    "    - close\n",
    "- File methods\n",
    "     - open()\n",
    "         - syntax : file_obj = open(\"filename\",\"mode\")\n",
    "     - read()\n",
    "         - synatx : file_obj.read(size)\n",
    "     - write()\n",
    "         - syntax : file_obj.write(data)\n",
    "     - close()\n",
    "         - syntax : file_obj.close()\n",
    "     - readlines()\n",
    "         - syntax : file_obj.readlines()\n",
    "         \n",
    "- Differnent Modes:\n",
    "    - open(\"filename\",\"mode\")\n",
    "    - open(\"filename\",\"r\")\n",
    "    - open(\"filename\",\"w\")\n",
    "    - open(\"filename\",\"a\")\n",
    "    - open(\"filenmae\",\"r+\")\n",
    "    - open(\"filename\",\"w+\")"
   ]
  },
  {
   "cell_type": "code",
   "execution_count": 1,
   "metadata": {},
   "outputs": [
    {
     "name": "stdout",
     "output_type": "stream",
     "text": [
      "Done\n"
     ]
    }
   ],
   "source": [
    "# creating a file\n",
    "f = open(\"file.txt\",\"w\")\n",
    "data = \"welcome to python internship program\"\n",
    "f.write(data)\n",
    "print(\"Done\")\n",
    "f.close()\n"
   ]
  },
  {
   "cell_type": "code",
   "execution_count": 2,
   "metadata": {},
   "outputs": [
    {
     "name": "stdout",
     "output_type": "stream",
     "text": [
      "welcome to python internship program\n"
     ]
    }
   ],
   "source": [
    "# reading the data\n",
    "file = open(\"file.txt\",\"r\")\n",
    "data1 = file.read()\n",
    "print(data1)\n",
    "file.close()"
   ]
  },
  {
   "cell_type": "code",
   "execution_count": 4,
   "metadata": {},
   "outputs": [
    {
     "name": "stdout",
     "output_type": "stream",
     "text": [
      "completed\n"
     ]
    }
   ],
   "source": [
    "# append spome data\n",
    "file = open(\"file.txt\",\"a\")\n",
    "#data = \"Hello everyone\"\n",
    "file.write(\"\\n\"+\"Hello everyone\")\n",
    "print(\"completed\")\n",
    "file.close()"
   ]
  },
  {
   "cell_type": "code",
   "execution_count": 5,
   "metadata": {},
   "outputs": [
    {
     "name": "stdout",
     "output_type": "stream",
     "text": [
      "welcome to python internship program\n",
      "Hello everyone\n"
     ]
    }
   ],
   "source": [
    "with open(\"file.txt\",\"r\") as file:\n",
    "    data = file.read()\n",
    "    print(data)"
   ]
  },
  {
   "cell_type": "code",
   "execution_count": 6,
   "metadata": {},
   "outputs": [
    {
     "name": "stdout",
     "output_type": "stream",
     "text": [
      "enter some data:apssdc conducting online workshops\n",
      "completed....................\n"
     ]
    }
   ],
   "source": [
    "file = open(\"file2.txt\",\"w\")\n",
    "file.write(input(\"enter some data:\"))\n",
    "print(\"completed\"+(\".\"*20))\n",
    "file.close()"
   ]
  },
  {
   "cell_type": "code",
   "execution_count": 1,
   "metadata": {},
   "outputs": [],
   "source": [
    "# \\ replace with \\\\\n",
    "# \\ replace with /\n",
    "# r -->rampath or rawlocation,r\"D:\\\"\""
   ]
  },
  {
   "cell_type": "code",
   "execution_count": 6,
   "metadata": {
    "collapsed": true
   },
   "outputs": [
    {
     "ename": "SyntaxError",
     "evalue": "(unicode error) 'unicodeescape' codec can't decode bytes in position 2-3: malformed \\N character escape (<ipython-input-6-3d6dd9187558>, line 1)",
     "output_type": "error",
     "traceback": [
      "\u001b[1;36m  File \u001b[1;32m\"<ipython-input-6-3d6dd9187558>\"\u001b[1;36m, line \u001b[1;32m1\u001b[0m\n\u001b[1;33m    f = open(\"D:\\Nagendra.txt\",\"r\")# filelocation\\filename.txt\u001b[0m\n\u001b[1;37m            ^\u001b[0m\n\u001b[1;31mSyntaxError\u001b[0m\u001b[1;31m:\u001b[0m (unicode error) 'unicodeescape' codec can't decode bytes in position 2-3: malformed \\N character escape\n"
     ]
    }
   ],
   "source": [
    "f = open(\"D:\\Nagendra.txt\",\"r\")# filelocation\\filename.txt\n",
    "d = f.read()\n",
    "print(d)\n",
    "f.close()"
   ]
  },
  {
   "cell_type": "markdown",
   "metadata": {},
   "source": [
    "### file objective methods\n",
    "  - seek()\n",
    "     - used to change the cursor position\n",
    "  - tell()\n",
    "     - used to know the cursor position"
   ]
  },
  {
   "cell_type": "code",
   "execution_count": 7,
   "metadata": {},
   "outputs": [
    {
     "name": "stdout",
     "output_type": "stream",
     "text": [
      "11\n"
     ]
    }
   ],
   "source": [
    "f = open(\"file.txt\",\"r\")\n",
    "data = f.read(11)\n",
    "print(f.tell())"
   ]
  },
  {
   "cell_type": "code",
   "execution_count": 9,
   "metadata": {},
   "outputs": [
    {
     "name": "stdout",
     "output_type": "stream",
     "text": [
      "11\n",
      "welcome to \n",
      "20\n"
     ]
    }
   ],
   "source": [
    "f = open(\"file.txt\",\"r\")\n",
    "data = f.read(11)\n",
    "print(f.tell())\n",
    "print(data)\n",
    "f.seek(20)\n",
    "print(f.tell())\n",
    "f.close()"
   ]
  },
  {
   "cell_type": "code",
   "execution_count": 10,
   "metadata": {},
   "outputs": [
    {
     "name": "stdout",
     "output_type": "stream",
     "text": [
      "enoyreve olleH\n",
      "margorp pihsnretni nohtyp ot emoclew\n"
     ]
    }
   ],
   "source": [
    "with open(\"file.txt\",\"r\") as file:\n",
    "    data = file.read()\n",
    "    print(data[::-1])"
   ]
  },
  {
   "cell_type": "code",
   "execution_count": 11,
   "metadata": {},
   "outputs": [
    {
     "data": {
      "text/plain": [
       "'gnirts'"
      ]
     },
     "execution_count": 11,
     "metadata": {},
     "output_type": "execute_result"
    }
   ],
   "source": [
    "a = \"string\"\n",
    "#gnirts\n",
    "a[::-1]"
   ]
  },
  {
   "cell_type": "code",
   "execution_count": 12,
   "metadata": {},
   "outputs": [
    {
     "name": "stdout",
     "output_type": "stream",
     "text": [
      "['welcome to python internship program\\n', 'Hello everyone']\n"
     ]
    }
   ],
   "source": [
    "with open(\"file.txt\",\"r\") as file:\n",
    "    data = file.readlines()\n",
    "    print(data)"
   ]
  },
  {
   "cell_type": "code",
   "execution_count": 13,
   "metadata": {},
   "outputs": [
    {
     "name": "stdout",
     "output_type": "stream",
     "text": [
      "welcome to python internship program\n",
      "\n",
      "Hello everyone\n"
     ]
    }
   ],
   "source": [
    "with open(\"file.txt\",\"r\") as file:\n",
    "    data = file.readlines()\n",
    "    for i in data:\n",
    "        print(i)"
   ]
  },
  {
   "cell_type": "code",
   "execution_count": 16,
   "metadata": {},
   "outputs": [
    {
     "name": "stdout",
     "output_type": "stream",
     "text": [
      "['welcome', 'to', 'python', 'internship', 'program\\n']\n",
      "5\n",
      "['Hello', 'everyone']\n",
      "2\n"
     ]
    }
   ],
   "source": [
    "# split the data andfind how many words in each line \n",
    "with open(\"file.txt\",\"r\") as file:\n",
    "    data = file.readlines()\n",
    "    for lines in data:\n",
    "        words = lines.split(\" \")\n",
    "        print(words)\n",
    "        print(len(words))"
   ]
  },
  {
   "cell_type": "code",
   "execution_count": 17,
   "metadata": {},
   "outputs": [
    {
     "name": "stdout",
     "output_type": "stream",
     "text": [
      "['welcome to python internship program\\n', 'Hello everyone']\n",
      "welcome to python internship program\n",
      " everyline\n",
      "['welcome', 'to', 'python', 'internship', 'program\\n'] words\n",
      "5 length\n",
      "Hello everyone everyline\n",
      "['Hello', 'everyone'] words\n",
      "2 length\n"
     ]
    }
   ],
   "source": [
    "# split the data andfind how many words in each line \n",
    "with open(\"file.txt\",\"r\") as file:\n",
    "    data = file.readlines()\n",
    "    print(data)\n",
    "    for lines in data:\n",
    "        print(lines,\"everyline\")\n",
    "        words = lines.split(\" \")\n",
    "        print(words,\"words\")\n",
    "        print(len(words),\"length\")"
   ]
  },
  {
   "cell_type": "code",
   "execution_count": 20,
   "metadata": {},
   "outputs": [
    {
     "name": "stdout",
     "output_type": "stream",
     "text": [
      "w\n",
      "e\n",
      "l\n",
      "c\n",
      "o\n",
      "m\n",
      "e\n",
      " \n",
      "t\n",
      "o\n",
      " \n",
      "p\n",
      "y\n",
      "t\n",
      "h\n",
      "o\n",
      "n\n",
      " \n",
      "i\n",
      "n\n",
      "t\n",
      "e\n",
      "r\n",
      "n\n",
      "s\n",
      "h\n",
      "i\n",
      "p\n",
      " \n",
      "p\n",
      "r\n",
      "o\n",
      "g\n",
      "r\n",
      "a\n",
      "m\n",
      "\n",
      "\n",
      "H\n",
      "e\n",
      "l\n",
      "l\n",
      "o\n",
      " \n",
      "e\n",
      "v\n",
      "e\n",
      "r\n",
      "y\n",
      "o\n",
      "n\n",
      "e\n"
     ]
    }
   ],
   "source": [
    "with open(\"file.txt\",\"r\") as file:\n",
    "    data = file.read()\n",
    "    for ele in data:\n",
    "        print(ele)"
   ]
  },
  {
   "cell_type": "code",
   "execution_count": 21,
   "metadata": {},
   "outputs": [
    {
     "name": "stdout",
     "output_type": "stream",
     "text": [
      "welcome ----> 7\n",
      "to ----> 2\n",
      "python ----> 6\n",
      "internship ----> 10\n",
      "program\n",
      " ----> 8\n",
      "Hello ----> 5\n",
      "everyone ----> 8\n"
     ]
    }
   ],
   "source": [
    "# find the length of each wordand also print that word\n",
    "\n",
    "with open(\"file.txt\",\"r\") as file:\n",
    "    data = file.readlines()\n",
    "    #print(data)\n",
    "    for lines in data:\n",
    "        #print(lines,\"everyline\")\n",
    "        words = lines.split(\" \")\n",
    "        #print(words,\"words\")\n",
    "        #print(len(words),\"length\")\n",
    "        for ele in words:\n",
    "            print(ele,\"---->\",len(ele))\n"
   ]
  },
  {
   "cell_type": "code",
   "execution_count": 4,
   "metadata": {},
   "outputs": [],
   "source": [
    "# find outthe frequency ofword\n",
    "# \"hi hello hi hello everyone\"\n",
    "# d = {\"hi\":2,\"hello\":2,\"everyone\":1}\n",
    "f = open(\"file.txt\",\"w\")\n",
    "data=\"Hii Hello Hii Hello everyone\"\n",
    "f.write(data)\n",
    "f.close()"
   ]
  },
  {
   "cell_type": "code",
   "execution_count": 5,
   "metadata": {},
   "outputs": [
    {
     "name": "stdout",
     "output_type": "stream",
     "text": [
      "['Hii Hello Hii Hello everyone']\n",
      "['Hii', 'Hello', 'Hii', 'Hello', 'everyone']\n",
      "{'Hii': 2, 'Hello': 2, 'everyone': 1}\n"
     ]
    }
   ],
   "source": [
    "d = {}\n",
    "f = open(\"file.txt\",\"r\")\n",
    "data = f.readlines()\n",
    "print(data)\n",
    "for line in data:\n",
    "    words = line.split()\n",
    "    print(words)\n",
    "    for word in words:\n",
    "        if word not in d:\n",
    "            d[word]=1\n",
    "        else:\n",
    "            d[word]+=1\n",
    "print(d)\n",
    "f.close()\n",
    "                "
   ]
  },
  {
   "cell_type": "code",
   "execution_count": null,
   "metadata": {},
   "outputs": [],
   "source": []
  }
 ],
 "metadata": {
  "kernelspec": {
   "display_name": "Python 3",
   "language": "python",
   "name": "python3"
  },
  "language_info": {
   "codemirror_mode": {
    "name": "ipython",
    "version": 3
   },
   "file_extension": ".py",
   "mimetype": "text/x-python",
   "name": "python",
   "nbconvert_exporter": "python",
   "pygments_lexer": "ipython3",
   "version": "3.7.4"
  }
 },
 "nbformat": 4,
 "nbformat_minor": 4
}
